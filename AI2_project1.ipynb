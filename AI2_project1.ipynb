{
  "cells": [
    {
      "cell_type": "markdown",
      "metadata": {
        "id": "rIy0eC_xN2O6"
      },
      "source": [
        "## Τα Στοιχεία μου\n",
        "ΤΥΠΑΛΔΟΣ-ΠΑΥΛΟΣ ΑΠΟΣΤΟΛΑΤΟΣ 1115201800009\n",
        "\n"
      ]
    },
    {
      "cell_type": "markdown",
      "metadata": {
        "id": "PmbSl2j0NxS_"
      },
      "source": [
        "# Initialisation"
      ]
    },
    {
      "cell_type": "code",
      "execution_count": 4,
      "metadata": {
        "colab": {
          "base_uri": "https://localhost:8080/"
        },
        "id": "vU6hmoDS_Wdn",
        "outputId": "b56bace6-d0f7-484b-bd7b-cb40656bddbf"
      },
      "outputs": [
        {
          "name": "stdout",
          "output_type": "stream",
          "text": [
            "Drive already mounted at /content/drive; to attempt to forcibly remount, call drive.mount(\"/content/drive\", force_remount=True).\n",
            "jj\n",
            "uu\n"
          ]
        }
      ],
      "source": [
        "import pandas as pd\n",
        "import matplotlib.pyplot as plt\n",
        "from matplotlib.pyplot import figure\n",
        "import numpy as np\n",
        "from sklearn.preprocessing import PolynomialFeatures\n",
        "import nltk\n",
        "import re\n",
        "from sklearn.feature_extraction.text import CountVectorizer,HashingVectorizer\n",
        "from sklearn.feature_extraction.text import TfidfVectorizer\n",
        "from gensim.models import Word2Vec\n",
        "from sklearn.linear_model import LogisticRegression\n",
        "from sklearn.naive_bayes import GaussianNB\n",
        "from sklearn import svm\n",
        "from sklearn.ensemble import RandomForestClassifier\n",
        "from sklearn.datasets import make_classification\n",
        "from sklearn.metrics import f1_score,recall_score,precision_score,confusion_matrix\n",
        "from gensim.parsing.preprocessing import remove_stopwords\n",
        "from google.colab import drive\n",
        "drive.mount('/content/drive')\n",
        "path = \"/content/drive/MyDrive/AI2/\" #update this\n",
        "import sys, os\n",
        "\n",
        "# Disable\n",
        "old=sys.stdout\n",
        "def blockPrint():\n",
        "  sys.stdout = open(os.devnull, 'w')\n",
        "\n",
        "# Restore\n",
        "def enablePrint():\n",
        "  sys.stdout.close()\n",
        "  sys.stdout = old\n",
        "\n",
        "print(\"jj\")\n",
        "blockPrint()\n",
        "print(\"oo\")\n",
        "enablePrint()\n",
        "print(\"uu\")"
      ]
    },
    {
      "cell_type": "code",
      "execution_count": 5,
      "metadata": {
        "colab": {
          "base_uri": "https://localhost:8080/"
        },
        "id": "JW4bkrG_9PmQ",
        "outputId": "6b910da8-09d7-4fe6-9713-a9ff83614a17"
      },
      "outputs": [
        {
          "name": "stdout",
          "output_type": "stream",
          "text": [
            "                                                   tweet  label\n",
            "0      Sip N Shop Come thru right now #Marjais #Popul...      0\n",
            "1      I don't know about you but My family and I wil...      1\n",
            "2      @MSignorile Immunizations should be mandatory....      2\n",
            "3      President Obama spoke in favor of vaccination ...      0\n",
            "4      \"@myfoxla: Arizona monitoring hundreds for mea...      0\n",
            "...                                                  ...    ...\n",
            "15971  @Salon if u believe the anti-vax nutcases caus...      1\n",
            "15972  How do you feel about parents who don't #vacci...      0\n",
            "15973  70 Preschoolers Tested for Measles in Simi Val...      0\n",
            "15974  Finance Minister: Budget offers room to procur...      0\n",
            "15975  Are you up to date on vaccines? Take CDC’s vac...      2\n",
            "\n",
            "[15976 rows x 2 columns]\n",
            "                                                  tweet  label\n",
            "0     @user They had a massive surge in with covid d...      1\n",
            "1     Required vaccines for school: Parents and guar...      0\n",
            "2     “@KCStar: Two more Johnson County children hav...      0\n",
            "3     NV can do better. Which states are the best (a...      2\n",
            "4     Nothing like killing ourselves w/ our own fear...      2\n",
            "...                                                 ...    ...\n",
            "2277  RT @abc7: Number of measles cases reported in ...      0\n",
            "2278  Evidence points to the idea that \"measles affe...      0\n",
            "2279  Where's @SavedYouAClick \"@voxdotcom: Why you s...      2\n",
            "2280  Some of my favorite people have autism. If tha...      2\n",
            "2281  Coronavirus: The married couple behind the suc...      0\n",
            "\n",
            "[2282 rows x 2 columns]\n"
          ]
        }
      ],
      "source": [
        "train_df = pd.read_csv(path + \"vaccine_train_set.csv\",index_col=0)\n",
        "validation_set = pd.read_csv(path + \"vaccine_validation_set.csv\",index_col=0) # and this. only those 2 needed to run your own test csv\n",
        "print(train_df)\n",
        "print(validation_set)\n",
        "# print(validation_set.iat[0,0])"
      ]
    },
    {
      "cell_type": "markdown",
      "metadata": {
        "id": "dz2NzgDGyva_"
      },
      "source": [
        "# Προεπεξεργασία δεδομένων\n",
        "κανω ολες τις λεξεις lowercase ετσι ωστε να μην θεωρουνται διαφορετικες λογω ενος κεφαλαιου αρχικου γραμματος και βγαζω σημεια στιξης"
      ]
    },
    {
      "cell_type": "code",
      "execution_count": 6,
      "metadata": {
        "id": "YfXWSvVeO9Bg"
      },
      "outputs": [],
      "source": [
        "train_df['tweet'] = train_df['tweet'].apply(lambda x: x.lower())\n",
        "train_df['tweet'] = train_df['tweet'].apply(lambda x: re.sub(r'\\W', ' ', x))\n",
        "train_df['tweet'] = train_df['tweet'].apply(lambda x:re.sub(r'\\s+', ' ', x))\n",
        "\n",
        "validation_set['tweet'] = validation_set['tweet'].apply(lambda x: x.lower())\n",
        "validation_set['tweet'] = validation_set['tweet'].apply(lambda x: re.sub(r'\\W', ' ', x))\n",
        "validation_set['tweet'] = validation_set['tweet'].apply(lambda x:re.sub(r'\\s+', ' ', x))\n"
      ]
    },
    {
      "cell_type": "code",
      "execution_count": 7,
      "metadata": {
        "id": "YWf6HvAPJZ8-"
      },
      "outputs": [],
      "source": [
        "train_df = train_df.drop(train_df[train_df.tweet.str.len() < 2].index)\n",
        "validation_set = validation_set.drop(validation_set[validation_set.tweet.str.len() < 2].index)"
      ]
    },
    {
      "cell_type": "markdown",
      "metadata": {
        "id": "3-TjeLX3EGE3"
      },
      "source": [
        "## Αφαίρεση stopwords\n",
        "i.e “a”, “the”, “is” etc"
      ]
    },
    {
      "cell_type": "code",
      "execution_count": 8,
      "metadata": {
        "id": "ZAInrHIwZyeM"
      },
      "outputs": [],
      "source": [
        "\n",
        "train_df['tweet'] = train_df['tweet'].apply(lambda x: remove_stopwords(x))\n",
        "validation_set['tweet'] = validation_set['tweet'].apply(lambda x: remove_stopwords(x))\n"
      ]
    },
    {
      "cell_type": "markdown",
      "metadata": {
        "id": "LcbytixHzWYs"
      },
      "source": [
        "# Οπτικοποίηση Δεδομένων"
      ]
    },
    {
      "cell_type": "code",
      "execution_count": 9,
      "metadata": {
        "colab": {
          "base_uri": "https://localhost:8080/",
          "height": 380
        },
        "id": "yv7FrFADBAQo",
        "outputId": "e047b71e-d748-4214-8527-d8773992256a"
      },
      "outputs": [
        {
          "name": "stdout",
          "output_type": "stream",
          "text": [
            "test set Examples:\n"
          ]
        },
        {
          "data": {
            "text/html": [
              "<div>\n",
              "<style scoped>\n",
              "    .dataframe tbody tr th:only-of-type {\n",
              "        vertical-align: middle;\n",
              "    }\n",
              "\n",
              "    .dataframe tbody tr th {\n",
              "        vertical-align: top;\n",
              "    }\n",
              "\n",
              "    .dataframe thead th {\n",
              "        text-align: right;\n",
              "    }\n",
              "</style>\n",
              "<table border=\"1\" class=\"dataframe\">\n",
              "  <thead>\n",
              "    <tr style=\"text-align: right;\">\n",
              "      <th></th>\n",
              "      <th>tweet</th>\n",
              "    </tr>\n",
              "  </thead>\n",
              "  <tbody>\n",
              "    <tr>\n",
              "      <th>0</th>\n",
              "      <td>sip n shop come right marjais popularnobodies ...</td>\n",
              "    </tr>\n",
              "    <tr>\n",
              "      <th>1</th>\n",
              "      <td>t know family covid19 vaccine anytime soon</td>\n",
              "    </tr>\n",
              "    <tr>\n",
              "      <th>2</th>\n",
              "      <td>msignorile immunizations mandatory period okla...</td>\n",
              "    </tr>\n",
              "    <tr>\n",
              "      <th>3</th>\n",
              "      <td>president obama spoke favor vaccination childr...</td>\n",
              "    </tr>\n",
              "    <tr>\n",
              "      <th>4</th>\n",
              "      <td>myfoxla arizona monitoring hundreds measles li...</td>\n",
              "    </tr>\n",
              "    <tr>\n",
              "      <th>5</th>\n",
              "      <td>whooping cough vaccine day bring baby home t l...</td>\n",
              "    </tr>\n",
              "    <tr>\n",
              "      <th>6</th>\n",
              "      <td>prosecutor ken ervin want know recklessly kill...</td>\n",
              "    </tr>\n",
              "    <tr>\n",
              "      <th>7</th>\n",
              "      <td>uberfacts average people complain live longer ...</td>\n",
              "    </tr>\n",
              "    <tr>\n",
              "      <th>8</th>\n",
              "      <td>legacy jennymccarthy took clothes contributed ...</td>\n",
              "    </tr>\n",
              "    <tr>\n",
              "      <th>9</th>\n",
              "      <td>uberfacts average people complain live longer ...</td>\n",
              "    </tr>\n",
              "  </tbody>\n",
              "</table>\n",
              "</div>"
            ],
            "text/plain": [
              "                                               tweet\n",
              "0  sip n shop come right marjais popularnobodies ...\n",
              "1         t know family covid19 vaccine anytime soon\n",
              "2  msignorile immunizations mandatory period okla...\n",
              "3  president obama spoke favor vaccination childr...\n",
              "4  myfoxla arizona monitoring hundreds measles li...\n",
              "5  whooping cough vaccine day bring baby home t l...\n",
              "6  prosecutor ken ervin want know recklessly kill...\n",
              "7  uberfacts average people complain live longer ...\n",
              "8  legacy jennymccarthy took clothes contributed ...\n",
              "9  uberfacts average people complain live longer ..."
            ]
          },
          "execution_count": 9,
          "metadata": {},
          "output_type": "execute_result"
        }
      ],
      "source": [
        "print(\"test set Examples:\")\n",
        "pd.DataFrame(train_df['tweet']).head(10)"
      ]
    },
    {
      "cell_type": "code",
      "execution_count": 10,
      "metadata": {
        "colab": {
          "base_uri": "https://localhost:8080/",
          "height": 380
        },
        "id": "U411Txl5zcD6",
        "outputId": "9be37396-987d-4e5c-aba6-66b558bb8240"
      },
      "outputs": [
        {
          "name": "stdout",
          "output_type": "stream",
          "text": [
            "validation set Examples:\n"
          ]
        },
        {
          "data": {
            "text/html": [
              "<div>\n",
              "<style scoped>\n",
              "    .dataframe tbody tr th:only-of-type {\n",
              "        vertical-align: middle;\n",
              "    }\n",
              "\n",
              "    .dataframe tbody tr th {\n",
              "        vertical-align: top;\n",
              "    }\n",
              "\n",
              "    .dataframe thead th {\n",
              "        text-align: right;\n",
              "    }\n",
              "</style>\n",
              "<table border=\"1\" class=\"dataframe\">\n",
              "  <thead>\n",
              "    <tr style=\"text-align: right;\">\n",
              "      <th></th>\n",
              "      <th>tweet</th>\n",
              "    </tr>\n",
              "  </thead>\n",
              "  <tbody>\n",
              "    <tr>\n",
              "      <th>0</th>\n",
              "      <td>user massive surge covid deaths immediately va...</td>\n",
              "    </tr>\n",
              "    <tr>\n",
              "      <th>1</th>\n",
              "      <td>required vaccines school parents guardians chi...</td>\n",
              "    </tr>\n",
              "    <tr>\n",
              "      <th>2</th>\n",
              "      <td>kcstar johnson county children measles http t ...</td>\n",
              "    </tr>\n",
              "    <tr>\n",
              "      <th>3</th>\n",
              "      <td>nv better states best worst vaccinating kids h...</td>\n",
              "    </tr>\n",
              "    <tr>\n",
              "      <th>4</th>\n",
              "      <td>like killing w fear mt alyssa_milano vaccine f...</td>\n",
              "    </tr>\n",
              "    <tr>\n",
              "      <th>5</th>\n",
              "      <td>m subscribing panic du jour s measles remember...</td>\n",
              "    </tr>\n",
              "    <tr>\n",
              "      <th>6</th>\n",
              "      <td>801punx fav songs check aptbs exploding head a...</td>\n",
              "    </tr>\n",
              "    <tr>\n",
              "      <th>7</th>\n",
              "      <td>happend covid 19 vaccine test candidates died ...</td>\n",
              "    </tr>\n",
              "    <tr>\n",
              "      <th>8</th>\n",
              "      <td>zenith bs gt gt cdc says ebola vaccine works w...</td>\n",
              "    </tr>\n",
              "    <tr>\n",
              "      <th>9</th>\n",
              "      <td>dlockyer second occurrence read vaccines harmi...</td>\n",
              "    </tr>\n",
              "  </tbody>\n",
              "</table>\n",
              "</div>"
            ],
            "text/plain": [
              "                                               tweet\n",
              "0  user massive surge covid deaths immediately va...\n",
              "1  required vaccines school parents guardians chi...\n",
              "2  kcstar johnson county children measles http t ...\n",
              "3  nv better states best worst vaccinating kids h...\n",
              "4  like killing w fear mt alyssa_milano vaccine f...\n",
              "5  m subscribing panic du jour s measles remember...\n",
              "6  801punx fav songs check aptbs exploding head a...\n",
              "7  happend covid 19 vaccine test candidates died ...\n",
              "8  zenith bs gt gt cdc says ebola vaccine works w...\n",
              "9  dlockyer second occurrence read vaccines harmi..."
            ]
          },
          "execution_count": 10,
          "metadata": {},
          "output_type": "execute_result"
        }
      ],
      "source": [
        "print(\"validation set Examples:\")\n",
        "pd.DataFrame(validation_set['tweet']).head(10)\n",
        "# values, counts = np.unique(validation_set['label'], return_counts=True)\n",
        "# print(values, counts )"
      ]
    },
    {
      "cell_type": "markdown",
      "metadata": {
        "id": "c6kxsM8sUkX5"
      },
      "source": [
        "# Classification"
      ]
    },
    {
      "cell_type": "markdown",
      "metadata": {
        "id": "K9S6K9jYqta4"
      },
      "source": [
        "##My custom vectorizer"
      ]
    },
    {
      "cell_type": "code",
      "execution_count": 11,
      "metadata": {
        "id": "FYHWPzGFq11t"
      },
      "outputs": [],
      "source": [
        "def vectorizer():\n",
        "  print()\n",
        "\n"
      ]
    },
    {
      "cell_type": "markdown",
      "metadata": {
        "id": "-h8cetP-mSY5"
      },
      "source": [
        "δινω ποσοστα και για το training για να δουμε το over/under-fitting"
      ]
    },
    {
      "cell_type": "markdown",
      "metadata": {
        "id": "vGdQkYm8rOmM"
      },
      "source": [
        "##Confusion Matrix"
      ]
    },
    {
      "cell_type": "code",
      "execution_count": 12,
      "metadata": {
        "id": "qZWaSXmqrKMO"
      },
      "outputs": [],
      "source": [
        "def ConfusionMatrix(test_label,ypred):\n",
        "  C = confusion_matrix(test_label,ypred)\n",
        "  confusionMatrix = pd.DataFrame(data = C, index=['neutral(0), true','anti-vax(1), true','pro-vax(2), true'], columns = ['neutral(0), predicted','anti-vax(1), predicted','pro-vax(2), predicted'])\n",
        "  confusionMatrix.loc['sum'] = confusionMatrix.sum()\n",
        "  confusionMatrix['sum'] = confusionMatrix.sum(axis=1)\n",
        "  print(confusionMatrix.to_string())\n",
        "  confMx = confusionMatrix.values[0:3,0:3]\n",
        "  plt.matshow(confMx, cmap=plt.cm.gray)\n",
        "  plt.show()\n",
        "\n"
      ]
    },
    {
      "cell_type": "markdown",
      "metadata": {
        "id": "Yp3SHcM5aYnU"
      },
      "source": [
        "##SoftMax"
      ]
    },
    {
      "cell_type": "code",
      "execution_count": 13,
      "metadata": {
        "id": "IiR-XmaLctuW"
      },
      "outputs": [],
      "source": [
        "def MySoftMax(learn_rate):\n",
        "  test_result = 0.0\n",
        "  train_result = 0.0\n",
        "  SoftMax=LogisticRegression(multi_class = 'multinomial',solver = 'lbfgs',max_iter=1000)\n",
        "  SoftMax.fit(traindata,trainlabel) #execute each clustering method\n",
        "  accuracy = SoftMax.score(testdata, testlabel) # grade how much the content of the test text set,based on the training, corresponds it's true label\n",
        "  y_pred=SoftMax.predict(testdata) # experimentaly predict the label based on our training and compare it to the true label\n",
        "  print(\"SoftMax\")\n",
        "  print(\"accuracy = \", accuracy * 100, \"%\")\n",
        "  learn_rate[0]+=f1_score(testlabel,y_pred,average='macro' ) * 100\n",
        "  for metric,metric_name in zip([f1_score(testlabel,y_pred,average='macro' ) * 100,recall_score(testlabel,y_pred,average='macro' ) * 100,precision_score(testlabel,y_pred,average='macro',zero_division=0) * 100], [\"F measure =\",\"recall score =\",\"precision score =\"]):#ngram_range has varying result\n",
        "    print(metric_name,metric , \"%\")\n",
        "    test_result+=metric\n",
        "  if n==10:\n",
        "    test_results.append(test_result/3)#keep the mean of the metrics for Learning Curve plotting\n",
        "    ConfusionMatrix(testlabel,y_pred);\n",
        "  print(\"ON TRAINING DATA = \")\n",
        "  accuracy = SoftMax.score(traindata, trainlabel)\n",
        "  print(\"accuracy on training data = \", accuracy * 100, \"%\")\n",
        "  y_pred=SoftMax.predict(traindata) \n",
        "  learn_rate[1]+=f1_score(trainlabel,y_pred,average='macro' ) * 100\n",
        "  for metric,metric_name in zip([f1_score(trainlabel,y_pred,average='macro' ) * 100,recall_score(trainlabel,y_pred,average='macro' ) * 100,precision_score(trainlabel,y_pred,average='macro',zero_division=0) * 100], [\"F measure =\",\"recall score =\",\"precision score =\"]):#ngram_range has varying result\n",
        "    print(metric_name,metric , \"%\")\n",
        "    train_result+=metric\n",
        "  if n==10:\n",
        "    train_results.append(train_result/3)\n",
        "    ConfusionMatrix(trainlabel,y_pred);"
      ]
    },
    {
      "cell_type": "code",
      "execution_count": 14,
      "metadata": {
        "id": "5xetNnsaxLGj"
      },
      "outputs": [],
      "source": [
        "train_original=train_df.copy()"
      ]
    },
    {
      "cell_type": "markdown",
      "metadata": {
        "id": "JApwuYYn4jiC"
      },
      "source": [
        "μικρο bug. εδω το enablePrint() μπορει να μην σας δουλεψει και να σας εκτυπωθουν μονο οι confusion matrix. μπορειτε η να ξανατρεξετε το cell η να βασιστειτε στο διαγραμμα ακριβειων(αποτελεσμα μετρικων) παρακατω.\n",
        "το κανω αυτο για να μπορειτε να δειτε τα αποτελεσματα των διαφορετικων πειραματισμων στο τελικο αποτελεσμα(100% χρηση training_set) χωρις να γινεται δυσαναγνωστος ο κωδικας ή η εξοδος του "
      ]
    },
    {
      "cell_type": "code",
      "execution_count": 18,
      "metadata": {
        "colab": {
          "base_uri": "https://localhost:8080/",
          "height": 1000
        },
        "id": "3RdhXLZxceO5",
        "outputId": "0d77b980-b499-45f5-a9e2-292edaa6dd27"
      },
      "outputs": [
        {
          "name": "stdout",
          "output_type": "stream",
          "text": [
            "CountVectorizer with unigrams\n",
            "------------------\n",
            "SoftMax\n",
            "accuracy =  68.05433829973707 %\n",
            "F measure = 58.349739329672566 %\n",
            "recall score = 57.288034926700796 %\n",
            "precision score = 63.82884312918915 %\n",
            "                   neutral(0), predicted  anti-vax(1), predicted  pro-vax(2), predicted   sum\n",
            "neutral(0), true                     841                      21                    203  1065\n",
            "anti-vax(1), true                     74                      68                    154   296\n",
            "pro-vax(2), true                     241                      36                    644   921\n",
            "sum                                 1156                     125                   1001  2282\n"
          ]
        },
        {
          "data": {
            "image/png": "[encoded data removed]",
            "text/plain": [
              "<Figure size 288x288 with 1 Axes>"
            ]
          },
          "metadata": {
            "needs_background": "light"
          },
          "output_type": "display_data"
        },
        {
          "name": "stdout",
          "output_type": "stream",
          "text": [
            "ON TRAINING DATA = \n",
            "accuracy on training data =  69.39784677015524 %\n",
            "F measure = 58.59326088887483 %\n",
            "recall score = 57.78703891360415 %\n",
            "precision score = 64.55323975902081 %\n",
            "                   neutral(0), predicted  anti-vax(1), predicted  pro-vax(2), predicted    sum\n",
            "neutral(0), true                    5965                     135                   1358   7458\n",
            "anti-vax(1), true                    549                     425                   1099   2073\n",
            "pro-vax(2), true                    1517                     231                   4697   6445\n",
            "sum                                 8031                     791                   7154  15976\n"
          ]
        },
        {
          "data": {
            "image/png": "[encoded data removed]",
            "text/plain": [
              "<Figure size 288x288 with 1 Axes>"
            ]
          },
          "metadata": {
            "needs_background": "light"
          },
          "output_type": "display_data"
        },
        {
          "name": "stdout",
          "output_type": "stream",
          "text": [
            "[58.349739329672566, 58.59326088887483]\n",
            "TfidfVectorizer with unigrams\n",
            "------------------\n",
            "SoftMax\n",
            "accuracy =  59.99123575810692 %\n",
            "F measure = 42.715230624323446 %\n",
            "recall score = 45.90672518644257 %\n",
            "precision score = 40.13338714947434 %\n",
            "                   neutral(0), predicted  anti-vax(1), predicted  pro-vax(2), predicted   sum\n",
            "neutral(0), true                     744                       0                    321  1065\n",
            "anti-vax(1), true                     67                       0                    229   296\n",
            "pro-vax(2), true                     296                       0                    625   921\n",
            "sum                                 1107                       0                   1175  2282\n"
          ]
        },
        {
          "data": {
            "image/png": "[encoded data removed]",
            "text/plain": [
              "<Figure size 288x288 with 1 Axes>"
            ]
          },
          "metadata": {
            "needs_background": "light"
          },
          "output_type": "display_data"
        },
        {
          "name": "stdout",
          "output_type": "stream",
          "text": [
            "ON TRAINING DATA = \n",
            "accuracy on training data =  59.996244366549824 %\n",
            "F measure = 42.718346865585325 %\n",
            "recall score = 45.92034156902305 %\n",
            "precision score = 40.12089331675852 %\n",
            "                   neutral(0), predicted  anti-vax(1), predicted  pro-vax(2), predicted    sum\n",
            "neutral(0), true                    5200                       0                   2258   7458\n",
            "anti-vax(1), true                    509                       0                   1564   2073\n",
            "pro-vax(2), true                    2060                       0                   4385   6445\n",
            "sum                                 7769                       0                   8207  15976\n"
          ]
        },
        {
          "data": {
            "image/png": "[encoded data removed]",
            "text/plain": [
              "<Figure size 288x288 with 1 Axes>"
            ]
          },
          "metadata": {
            "needs_background": "light"
          },
          "output_type": "display_data"
        },
        {
          "name": "stdout",
          "output_type": "stream",
          "text": [
            "[101.06496995399601, 101.31160775446016]\n",
            "HashingVectorizer\n",
            "------------------\n",
            "SoftMax\n",
            "accuracy =  62.35758106923751 %\n",
            "F measure = 56.07390010999688 %\n",
            "recall score = 55.85586791085254 %\n",
            "precision score = 56.3355171722425 %\n",
            "                   neutral(0), predicted  anti-vax(1), predicted  pro-vax(2), predicted   sum\n",
            "neutral(0), true                     750                      70                    245  1065\n",
            "anti-vax(1), true                     87                     105                    104   296\n",
            "pro-vax(2), true                     254                      99                    568   921\n",
            "sum                                 1091                     274                    917  2282\n"
          ]
        },
        {
          "data": {
            "image/png": "[encoded data removed]",
            "text/plain": [
              "<Figure size 288x288 with 1 Axes>"
            ]
          },
          "metadata": {
            "needs_background": "light"
          },
          "output_type": "display_data"
        },
        {
          "name": "stdout",
          "output_type": "stream",
          "text": [
            "ON TRAINING DATA = \n",
            "accuracy on training data =  77.83550325488233 %\n",
            "F measure = 74.25009912269148 %\n",
            "recall score = 72.94347263514832 %\n",
            "precision score = 76.10396059997072 %\n",
            "                   neutral(0), predicted  anti-vax(1), predicted  pro-vax(2), predicted    sum\n",
            "neutral(0), true                    6177                     189                   1092   7458\n",
            "anti-vax(1), true                    324                    1189                    560   2073\n",
            "pro-vax(2), true                    1092                     284                   5069   6445\n",
            "sum                                 7593                    1662                   6721  15976\n"
          ]
        },
        {
          "data": {
            "image/png": "[encoded data removed]",
            "text/plain": [
              "<Figure size 288x288 with 1 Axes>"
            ]
          },
          "metadata": {
            "needs_background": "light"
          },
          "output_type": "display_data"
        },
        {
          "name": "stdout",
          "output_type": "stream",
          "text": [
            "[157.1388700639929, 175.56170687715164]\n"
          ]
        }
      ],
      "source": [
        "test_results = []\n",
        "train_results = []\n",
        "test_learning_curve = []\n",
        "train_learning_curve = []\n",
        "trainlabel = np.asarray(train_df['label'])#extract true-false label\n",
        "testlabel=np.asarray(validation_set['label'])\n",
        "blockPrint()\n",
        "for n in range(1,11):\n",
        "  test_learn_rate=0.0\n",
        "  train_learn_rate=0.0\n",
        "  train_df=train_original.head(int(len(train_original)*(n/10)))\n",
        "  trainlabel = np.asarray(train_df['label'])#extract true-false label\n",
        "  print(train_df)\n",
        "  if n==10:\n",
        "    enablePrint()\n",
        "  for vectorizer,name in zip([CountVectorizer(ngram_range=(1,2) ,max_features=200),TfidfVectorizer(ngram_range=(1,2), max_features=10),HashingVectorizer(ngram_range=(1,2),n_features= 2 ** 11)], [\"CountVectorizer with unigrams\",\"TfidfVectorizer with unigrams\",\"HashingVectorizer\"]):#ngram_range has varying result\n",
        "    test_result = 0.0\n",
        "    train_result = 0.0\n",
        "    dataset=train_df.tweet\n",
        "    X1 = vectorizer.fit_transform(dataset)\n",
        "    traindata=X1.toarray() #make a 2d array of with the frequencies of the word ngrams\n",
        "    means = np.mean(traindata, axis=0)\n",
        "    stds = np.std(traindata, axis=0)\n",
        "    traindata = (traindata - means)/stds #optimises the vector\n",
        "    dataset=validation_set.tweet #same for test\n",
        "    X1 = vectorizer.transform(dataset) # see below why i transform and not fit_transform again\n",
        "    testdata=X1.toarray()\n",
        "    # print(traindata)\n",
        "    means = np.mean(testdata, axis=0)\n",
        "    stds = np.std(testdata, axis=0)\n",
        "    testdata = (testdata - means)/stds\n",
        "    # print(testdata)\n",
        "    print(name)\n",
        "    print(\"------------------\")\n",
        "    learn_rate=[test_learn_rate,train_learn_rate]\n",
        "    MySoftMax(learn_rate)\n",
        "    test_learn_rate=learn_rate[0]\n",
        "    train_learn_rate=learn_rate[1]\n",
        "    print(learn_rate)\n",
        "  test_learning_curve.append((learn_rate[0]/3))\n",
        "  train_learning_curve.append((learn_rate[1]/3))\n",
        "\n",
        "  # test_results.append((accuracy*100,recall_score(testlabel,y_pred,average='macro' ) * 100,precision_score(testlabel,y_pred,average='macro' ) * 100))"
      ]
    },
    {
      "cell_type": "markdown",
      "metadata": {
        "id": "G3tkRd1hg6s9"
      },
      "source": [
        "# Classification with Word2Vec\n",
        "επειδη δουλεψα με αυτα τα μοντελα στο μαθημα Τεχνικες Εξόρυξης Δεδομένων εχω εύκαιρο και ενα μοντέλο Word2vec που ειναι ενφδιαφερον να δοκιμαστει σε μη δυαδικο classification. \n",
        "εδω κανουμε τα ιδια αλλα για τον 2d array των simililarities επειδη η συναρτηση get_normed_vectors() που μας δινει το similarity vector των n λεξεων του document δεν υποστηριζεται στο google colab φτιαχνουμε αυτον τον πινακα μονοι μας\n",
        "\n",
        "το tokens ειναι ολα τα text σε λιστα,το record ενα node της λιστας (text προταση split-αρισμενη) το word ειναι ενα κομματι της split προτασης και για καθε τετοια word παιρνουμε ενα πινακα καταληγωντας σε εναν 2d array traindata\n",
        "για n λεξεις\n",
        "\n",
        "#ΠΑΡΑΔΟΧΗ:\n",
        "στο Word2Vec δεν μπορεσα να σχεδιασω learning curve λογω περιορισμου RAM και runtime"
      ]
    },
    {
      "cell_type": "code",
      "execution_count": 23,
      "metadata": {
        "colab": {
          "base_uri": "https://localhost:8080/"
        },
        "id": "ZuVxvxioYn6G",
        "outputId": "dfd1719a-861e-46d9-f817-c4ac87b3d9ff"
      },
      "outputs": [
        {
          "name": "stdout",
          "output_type": "stream",
          "text": [
            "[nltk_data] Downloading package punkt to /root/nltk_data...\n",
            "[nltk_data]   Package punkt is already up-to-date!\n"
          ]
        }
      ],
      "source": [
        "sentences = pd.concat([train_df.tweet,validation_set.tweet],ignore_index=True)\n",
        "nltk.download('punkt')\n",
        "# simple tokenization\n",
        "tokens = [nltk.word_tokenize(sentence) for sentence in sentences]\n",
        "\n",
        "w2vmodel = Word2Vec(tokens,\n",
        "                    seed=32,\n",
        "                    negative=5,\n",
        "                    sg=0,\n",
        "                    min_count=1,\n",
        "                    window=1)\n",
        "\n",
        "w2vmodel.build_vocab(tokens, update=True)  # prepare the model vocabulary\n",
        "w2vmodel.train(tokens, total_examples=len(tokens), epochs=2)\n",
        "train_tokens = [nltk.word_tokenize(sentences) for sentences in train_df.tweet ]\n",
        "test_tokens = [nltk.word_tokenize(sentences) for sentences in validation_set.tweet]"
      ]
    },
    {
      "cell_type": "code",
      "execution_count": 24,
      "metadata": {
        "colab": {
          "base_uri": "https://localhost:8080/",
          "height": 967
        },
        "id": "dskRMbalU76X",
        "outputId": "412a1bbd-6239-49a4-f645-3e7001c4911a"
      },
      "outputs": [
        {
          "name": "stderr",
          "output_type": "stream",
          "text": [
            "/usr/local/lib/python3.7/dist-packages/ipykernel_launcher.py:3: DeprecationWarning: Call to deprecated `__getitem__` (Method will be removed in 4.0.0, use self.wv.__getitem__() instead).\n",
            "  This is separate from the ipykernel package so we can avoid doing imports until\n",
            "/usr/local/lib/python3.7/dist-packages/ipykernel_launcher.py:4: DeprecationWarning: Call to deprecated `__getitem__` (Method will be removed in 4.0.0, use self.wv.__getitem__() instead).\n",
            "  after removing the cwd from sys.path.\n"
          ]
        },
        {
          "name": "stdout",
          "output_type": "stream",
          "text": [
            "SoftMax\n",
            "accuracy =  65.55652936021035 %\n",
            "F measure = 48.60488284058168 %\n",
            "recall score = 50.82695141808781 %\n",
            "precision score = 56.59347405203759 %\n",
            "                   neutral(0), predicted  anti-vax(1), predicted  pro-vax(2), predicted   sum\n",
            "neutral(0), true                     834                       8                    223  1065\n",
            "anti-vax(1), true                     75                      10                    211   296\n",
            "pro-vax(2), true                     261                       8                    652   921\n",
            "sum                                 1170                      26                   1086  2282\n"
          ]
        },
        {
          "data": {
            "image/png": "[encoded data removed]",
            "text/plain": [
              "<Figure size 288x288 with 1 Axes>"
            ]
          },
          "metadata": {
            "needs_background": "light"
          },
          "output_type": "display_data"
        },
        {
          "name": "stdout",
          "output_type": "stream",
          "text": [
            "ON TRAINING DATA = \n",
            "accuracy on training data =  65.9176264396595 %\n",
            "F measure = 48.56472332854523 %\n",
            "recall score = 50.97640863388908 %\n",
            "precision score = 54.73954295699747 %\n",
            "                   neutral(0), predicted  anti-vax(1), predicted  pro-vax(2), predicted    sum\n",
            "neutral(0), true                    5868                      60                   1530   7458\n",
            "anti-vax(1), true                    582                      58                   1433   2073\n",
            "pro-vax(2), true                    1777                      63                   4605   6445\n",
            "sum                                 8227                     181                   7568  15976\n"
          ]
        },
        {
          "data": {
            "image/png": "[encoded data removed]",
            "text/plain": [
              "<Figure size 288x288 with 1 Axes>"
            ]
          },
          "metadata": {
            "needs_background": "light"
          },
          "output_type": "display_data"
        },
        {
          "name": "stdout",
          "output_type": "stream",
          "text": [
            "\n"
          ]
        }
      ],
      "source": [
        "test_result = 0.0\n",
        "train_result = 0.0\n",
        "traindata = [np.array([w2vmodel[word] for word in record]).mean(axis=0) for record in train_tokens]\n",
        "testdata = [np.array([w2vmodel[word] for word in record]).mean(axis=0) for record in test_tokens]\n",
        "MySoftMax([1,1])#this arguement doesnt matter here\n",
        "\n",
        "print()\n"
      ]
    },
    {
      "cell_type": "markdown",
      "metadata": {
        "id": "Cvq8SDVe0epE"
      },
      "source": [
        "#Συμπερασματα(προσωρινα)\n",
        "τα μοντελα μου εχουν μια ελαφρη κλιση προς το neutral και εχουν τρομερο προβλημα στο να ανιχνευουν anti-vax tweets και απο εκει προερχονται τα χαμηλα ποσοστα ακριβειασ μου. αν μπορουσα να  φτιαξω το anti-vax μια 33% αυξηση των ποσοστων θα ηταν πολυ καλη \n",
        "\n",
        "ετρεξα τους vectorizers με μονο bigrams και ειδα μονο χειροτερα απολεσματα. κανενας λογος να επιλεχτει\n",
        "\n",
        "ξαναετρεξα με αλλα Logistic Regression ορισματα οπως ovr multiclass saga, newton-cg solvers αλλα ειδα σχεδον μηδενικη διαφορα\n",
        "\n",
        "η λυση ηταν ο hash vectorizer ο οποιος με τα default ορισματα κρασαρει λογω μνημης αλλα με μειωση του n_features δηλαδη σημαντικη μειωση στηλων του πινακα ειχαμε πολυ καλη αυξηση ευστοχιας. μια ακομα λεπτομερια ποιοτητα ειναι οτι σε confusion matrix οχι μονο η κυρια διαγωνιος ειναι η πιο ανοιχτοχρωμη αλλα η αντιθετη διαγωνιος ειναι η 2η πιο λευκη δηλαδη τα περισσοτερα misclassified positive πανε σε neutral(πιο κοντινο απο το να πανε anti-vax)\n",
        "\n",
        "υστερα αφου διαβασα  [αυτη την συζητηση στο piazza](https://piazza.com/class/kud1bfc0uy62rl?cid=22) δοκιμασα να κανω transform αντι για fit_transform στο validation_set και στην περιπτωση του CountVectorizer και tfidf ειδα οτι η ακριβεια εφτασε πιο κοντα αυτη του training_set(απο 45% 60%) και εκλεισε τη διαφορα με τον hashingVectorizer"
      ]
    },
    {
      "cell_type": "code",
      "execution_count": 25,
      "metadata": {
        "colab": {
          "base_uri": "https://localhost:8080/",
          "height": 295
        },
        "id": "Fq1nCXt3DtLk",
        "outputId": "321adcc2-6577-4505-e22d-ba4f0175a3bf"
      },
      "outputs": [
        {
          "data": {
            "image/png": "[encoded data removed]",
            "text/plain": [
              "<Figure size 432x288 with 1 Axes>"
            ]
          },
          "metadata": {
            "needs_background": "light"
          },
          "output_type": "display_data"
        }
      ],
      "source": [
        "\n",
        "plt.plot([\"cv\",\"tf-idf\",\"hv\",\"w2v\"], test_results)\n",
        "plt.plot([\"cv\",\"tf-idf\",\"hv\",\"w2v\"], train_results)\n",
        "plt.legend(['test', 'train'])\n",
        "plt.xlabel(\"Model\")\n",
        "plt.ylabel(\"Accuracy\")\n",
        "plt.title(\"Learning Curve of models\")\n",
        "plt.show()"
      ]
    },
    {
      "cell_type": "markdown",
      "metadata": {
        "id": "FtTl_3kZpZkt"
      },
      "source": [
        "##Learning Curve\n",
        "Υ.Γ αν στο tf-idf ειχα βαλει max_features=200 οπως στο count vectorizer θα εχει ακριβεια 60 οπως αυτο και το test στο learning curve θα ηταν γυρω στο 2% πιο πανω. απλα ηθελα να δειξω την επιρροη του ορισματος"
      ]
    },
    {
      "cell_type": "code",
      "execution_count": 22,
      "metadata": {
        "colab": {
          "base_uri": "https://localhost:8080/",
          "height": 295
        },
        "id": "egSw079mpcE5",
        "outputId": "fddc242a-761a-49d2-8bf6-d4ba09b4736e"
      },
      "outputs": [
        {
          "data": {
            "image/png": "[encoded data removed]",
            "text/plain": [
              "<Figure size 432x288 with 1 Axes>"
            ]
          },
          "metadata": {
            "needs_background": "light"
          },
          "output_type": "display_data"
        }
      ],
      "source": [
        "plt.plot(range(10,110,10), test_learning_curve)\n",
        "plt.plot(range(10,110,10), train_learning_curve)\n",
        "plt.legend(['test', 'train'])\n",
        "plt.xlabel(\"training size\")\n",
        "plt.ylabel(\"Learn Rate\")\n",
        "plt.title(\"Learning Curve of models\")\n",
        "plt.show()"
      ]
    }
  ],
  "metadata": {
    "colab": {
      "collapsed_sections": [],
      "name": "Copy of AI2_project1.ipynb",
      "provenance": []
    },
    "kernelspec": {
      "display_name": "Python 3",
      "name": "python3"
    },
    "language_info": {
      "name": "python"
    }
  },
  "nbformat": 4,
  "nbformat_minor": 0
}
