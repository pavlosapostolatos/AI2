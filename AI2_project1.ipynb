{
  "nbformat": 4,
  "nbformat_minor": 0,
  "metadata": {
    "colab": {
      "name": "Copy of AI2_project1.ipynb",
      "provenance": [],
      "collapsed_sections": []
    },
    "kernelspec": {
      "name": "python3",
      "display_name": "Python 3"
    },
    "language_info": {
      "name": "python"
    }
  },
  "cells": [
    {
      "cell_type": "markdown",
      "metadata": {
        "id": "rIy0eC_xN2O6"
      },
      "source": [
        "# Στοιχεία φοιτητών\n",
        "\n",
        "**Συμμετέχοντες:** \\\n",
        "ΤΥΠΑΛΔΟΣ-ΠΑΥΛΟΣ ΑΠΟΣΤΟΛΑΤΟΣ 1115201800009\n",
        "\n"
      ]
    },
    {
      "cell_type": "markdown",
      "metadata": {
        "id": "PmbSl2j0NxS_"
      },
      "source": [
        "# Initialisation"
      ]
    },
    {
      "cell_type": "code",
      "metadata": {
        "id": "vU6hmoDS_Wdn",
        "colab": {
          "base_uri": "https://localhost:8080/"
        },
        "outputId": "fd6bf45d-710f-4cde-afc4-3ba343204fc1"
      },
      "source": [
        "import pandas as pd\n",
        "import matplotlib.pyplot as plt\n",
        "from matplotlib.pyplot import figure\n",
        "import numpy as np\n",
        "from sklearn.preprocessing import PolynomialFeatures\n",
        "import nltk\n",
        "import re\n",
        "from sklearn.feature_extraction.text import CountVectorizer,HashingVectorizer\n",
        "from sklearn.feature_extraction.text import TfidfVectorizer\n",
        "from gensim.models import Word2Vec\n",
        "from sklearn.linear_model import LogisticRegression\n",
        "from sklearn.naive_bayes import GaussianNB\n",
        "from sklearn import svm\n",
        "from sklearn.ensemble import RandomForestClassifier\n",
        "from sklearn.datasets import make_classification\n",
        "from sklearn.metrics import f1_score,recall_score,precision_score,confusion_matrix\n",
        "from gensim.parsing.preprocessing import remove_stopwords\n",
        "from google.colab import drive\n",
        "drive.mount('/content/drive')\n",
        "path = \"/content/drive/MyDrive/AI2/\""
      ],
      "execution_count": null,
      "outputs": [
        {
          "output_type": "stream",
          "name": "stdout",
          "text": [
            "Mounted at /content/drive\n"
          ]
        }
      ]
    },
    {
      "cell_type": "code",
      "metadata": {
        "id": "JW4bkrG_9PmQ",
        "colab": {
          "base_uri": "https://localhost:8080/"
        },
        "outputId": "d98a1a34-6dbb-495c-873a-8312c300c068"
      },
      "source": [
        "train_df = pd.read_csv(path + \"vaccine_train_set.csv\",index_col=0)\n",
        "validation_set = pd.read_csv(path + \"vaccine_validation_set.csv\",index_col=0)\n",
        "print(train_df)\n",
        "print(validation_set)\n",
        "# print(validation_set.iat[0,0])"
      ],
      "execution_count": null,
      "outputs": [
        {
          "output_type": "stream",
          "name": "stdout",
          "text": [
            "                                                   tweet  label\n",
            "0      Sip N Shop Come thru right now #Marjais #Popul...      0\n",
            "1      I don't know about you but My family and I wil...      1\n",
            "2      @MSignorile Immunizations should be mandatory....      2\n",
            "3      President Obama spoke in favor of vaccination ...      0\n",
            "4      \"@myfoxla: Arizona monitoring hundreds for mea...      0\n",
            "...                                                  ...    ...\n",
            "15971  @Salon if u believe the anti-vax nutcases caus...      1\n",
            "15972  How do you feel about parents who don't #vacci...      0\n",
            "15973  70 Preschoolers Tested for Measles in Simi Val...      0\n",
            "15974  Finance Minister: Budget offers room to procur...      0\n",
            "15975  Are you up to date on vaccines? Take CDC’s vac...      2\n",
            "\n",
            "[15976 rows x 2 columns]\n",
            "                                                  tweet  label\n",
            "0     @user They had a massive surge in with covid d...      1\n",
            "1     Required vaccines for school: Parents and guar...      0\n",
            "2     “@KCStar: Two more Johnson County children hav...      0\n",
            "3     NV can do better. Which states are the best (a...      2\n",
            "4     Nothing like killing ourselves w/ our own fear...      2\n",
            "...                                                 ...    ...\n",
            "2277  RT @abc7: Number of measles cases reported in ...      0\n",
            "2278  Evidence points to the idea that \"measles affe...      0\n",
            "2279  Where's @SavedYouAClick \"@voxdotcom: Why you s...      2\n",
            "2280  Some of my favorite people have autism. If tha...      2\n",
            "2281  Coronavirus: The married couple behind the suc...      0\n",
            "\n",
            "[2282 rows x 2 columns]\n"
          ]
        }
      ]
    },
    {
      "cell_type": "markdown",
      "metadata": {
        "id": "dz2NzgDGyva_"
      },
      "source": [
        "# Προεπεξεργασία δεδομένων\n",
        "κανω ολες τις λεξεις lowercase ετσι ωστε να μην θεωρουνται διαφορετικες λογω ενος κεφαλαιου αρχικου γραμματος και βγαζω σημεια στιξης"
      ]
    },
    {
      "cell_type": "code",
      "metadata": {
        "id": "YfXWSvVeO9Bg"
      },
      "source": [
        "train_df['tweet'] = train_df['tweet'].apply(lambda x: x.lower())\n",
        "train_df['tweet'] = train_df['tweet'].apply(lambda x: re.sub(r'\\W', ' ', x))\n",
        "train_df['tweet'] = train_df['tweet'].apply(lambda x:re.sub(r'\\s+', ' ', x))\n",
        "\n",
        "validation_set['tweet'] = validation_set['tweet'].apply(lambda x: x.lower())\n",
        "validation_set['tweet'] = validation_set['tweet'].apply(lambda x: re.sub(r'\\W', ' ', x))\n",
        "validation_set['tweet'] = validation_set['tweet'].apply(lambda x:re.sub(r'\\s+', ' ', x))\n"
      ],
      "execution_count": null,
      "outputs": []
    },
    {
      "cell_type": "code",
      "metadata": {
        "id": "YWf6HvAPJZ8-"
      },
      "source": [
        "train_df = train_df.drop(train_df[train_df.tweet.str.len() < 2].index)\n",
        "validation_set = validation_set.drop(validation_set[validation_set.tweet.str.len() < 2].index)"
      ],
      "execution_count": null,
      "outputs": []
    },
    {
      "cell_type": "markdown",
      "metadata": {
        "id": "3-TjeLX3EGE3"
      },
      "source": [
        "## Αφαίρεση stopwords\n",
        "i.e “a”, “the”, “is” etc"
      ]
    },
    {
      "cell_type": "code",
      "metadata": {
        "id": "ZAInrHIwZyeM"
      },
      "source": [
        "\n",
        "train_df['tweet'] = train_df['tweet'].apply(lambda x: remove_stopwords(x))\n",
        "validation_set['tweet'] = validation_set['tweet'].apply(lambda x: remove_stopwords(x))\n"
      ],
      "execution_count": null,
      "outputs": []
    },
    {
      "cell_type": "markdown",
      "metadata": {
        "id": "LcbytixHzWYs"
      },
      "source": [
        "# Οπτικοποίηση Δεδομένων"
      ]
    },
    {
      "cell_type": "code",
      "metadata": {
        "colab": {
          "base_uri": "https://localhost:8080/",
          "height": 380
        },
        "id": "yv7FrFADBAQo",
        "outputId": "41821b84-552c-4050-f4d4-9cbaa75c4363"
      },
      "source": [
        "print(\"test set Examples:\")\n",
        "pd.DataFrame(train_df['tweet']).head(10)"
      ],
      "execution_count": null,
      "outputs": [
        {
          "output_type": "stream",
          "name": "stdout",
          "text": [
            "test set Examples:\n"
          ]
        },
        {
          "output_type": "execute_result",
          "data": {
            "text/html": [
              "<div>\n",
              "<style scoped>\n",
              "    .dataframe tbody tr th:only-of-type {\n",
              "        vertical-align: middle;\n",
              "    }\n",
              "\n",
              "    .dataframe tbody tr th {\n",
              "        vertical-align: top;\n",
              "    }\n",
              "\n",
              "    .dataframe thead th {\n",
              "        text-align: right;\n",
              "    }\n",
              "</style>\n",
              "<table border=\"1\" class=\"dataframe\">\n",
              "  <thead>\n",
              "    <tr style=\"text-align: right;\">\n",
              "      <th></th>\n",
              "      <th>tweet</th>\n",
              "    </tr>\n",
              "  </thead>\n",
              "  <tbody>\n",
              "    <tr>\n",
              "      <th>0</th>\n",
              "      <td>sip n shop come right marjais popularnobodies ...</td>\n",
              "    </tr>\n",
              "    <tr>\n",
              "      <th>1</th>\n",
              "      <td>t know family covid19 vaccine anytime soon</td>\n",
              "    </tr>\n",
              "    <tr>\n",
              "      <th>2</th>\n",
              "      <td>msignorile immunizations mandatory period okla...</td>\n",
              "    </tr>\n",
              "    <tr>\n",
              "      <th>3</th>\n",
              "      <td>president obama spoke favor vaccination childr...</td>\n",
              "    </tr>\n",
              "    <tr>\n",
              "      <th>4</th>\n",
              "      <td>myfoxla arizona monitoring hundreds measles li...</td>\n",
              "    </tr>\n",
              "    <tr>\n",
              "      <th>5</th>\n",
              "      <td>whooping cough vaccine day bring baby home t l...</td>\n",
              "    </tr>\n",
              "    <tr>\n",
              "      <th>6</th>\n",
              "      <td>prosecutor ken ervin want know recklessly kill...</td>\n",
              "    </tr>\n",
              "    <tr>\n",
              "      <th>7</th>\n",
              "      <td>uberfacts average people complain live longer ...</td>\n",
              "    </tr>\n",
              "    <tr>\n",
              "      <th>8</th>\n",
              "      <td>legacy jennymccarthy took clothes contributed ...</td>\n",
              "    </tr>\n",
              "    <tr>\n",
              "      <th>9</th>\n",
              "      <td>uberfacts average people complain live longer ...</td>\n",
              "    </tr>\n",
              "  </tbody>\n",
              "</table>\n",
              "</div>"
            ],
            "text/plain": [
              "                                               tweet\n",
              "0  sip n shop come right marjais popularnobodies ...\n",
              "1         t know family covid19 vaccine anytime soon\n",
              "2  msignorile immunizations mandatory period okla...\n",
              "3  president obama spoke favor vaccination childr...\n",
              "4  myfoxla arizona monitoring hundreds measles li...\n",
              "5  whooping cough vaccine day bring baby home t l...\n",
              "6  prosecutor ken ervin want know recklessly kill...\n",
              "7  uberfacts average people complain live longer ...\n",
              "8  legacy jennymccarthy took clothes contributed ...\n",
              "9  uberfacts average people complain live longer ..."
            ]
          },
          "metadata": {},
          "execution_count": 8
        }
      ]
    },
    {
      "cell_type": "code",
      "metadata": {
        "colab": {
          "base_uri": "https://localhost:8080/",
          "height": 380
        },
        "id": "U411Txl5zcD6",
        "outputId": "925267ac-3c56-4e1f-b0af-d9bef0c60cfb"
      },
      "source": [
        "print(\"validation set Examples:\")\n",
        "pd.DataFrame(validation_set['tweet']).head(10)\n",
        "# values, counts = np.unique(validation_set['label'], return_counts=True)\n",
        "# print(values, counts )"
      ],
      "execution_count": null,
      "outputs": [
        {
          "output_type": "stream",
          "name": "stdout",
          "text": [
            "validation set Examples:\n"
          ]
        },
        {
          "output_type": "execute_result",
          "data": {
            "text/html": [
              "<div>\n",
              "<style scoped>\n",
              "    .dataframe tbody tr th:only-of-type {\n",
              "        vertical-align: middle;\n",
              "    }\n",
              "\n",
              "    .dataframe tbody tr th {\n",
              "        vertical-align: top;\n",
              "    }\n",
              "\n",
              "    .dataframe thead th {\n",
              "        text-align: right;\n",
              "    }\n",
              "</style>\n",
              "<table border=\"1\" class=\"dataframe\">\n",
              "  <thead>\n",
              "    <tr style=\"text-align: right;\">\n",
              "      <th></th>\n",
              "      <th>tweet</th>\n",
              "    </tr>\n",
              "  </thead>\n",
              "  <tbody>\n",
              "    <tr>\n",
              "      <th>0</th>\n",
              "      <td>user massive surge covid deaths immediately va...</td>\n",
              "    </tr>\n",
              "    <tr>\n",
              "      <th>1</th>\n",
              "      <td>required vaccines school parents guardians chi...</td>\n",
              "    </tr>\n",
              "    <tr>\n",
              "      <th>2</th>\n",
              "      <td>kcstar johnson county children measles http t ...</td>\n",
              "    </tr>\n",
              "    <tr>\n",
              "      <th>3</th>\n",
              "      <td>nv better states best worst vaccinating kids h...</td>\n",
              "    </tr>\n",
              "    <tr>\n",
              "      <th>4</th>\n",
              "      <td>like killing w fear mt alyssa_milano vaccine f...</td>\n",
              "    </tr>\n",
              "    <tr>\n",
              "      <th>5</th>\n",
              "      <td>m subscribing panic du jour s measles remember...</td>\n",
              "    </tr>\n",
              "    <tr>\n",
              "      <th>6</th>\n",
              "      <td>801punx fav songs check aptbs exploding head a...</td>\n",
              "    </tr>\n",
              "    <tr>\n",
              "      <th>7</th>\n",
              "      <td>happend covid 19 vaccine test candidates died ...</td>\n",
              "    </tr>\n",
              "    <tr>\n",
              "      <th>8</th>\n",
              "      <td>zenith bs gt gt cdc says ebola vaccine works w...</td>\n",
              "    </tr>\n",
              "    <tr>\n",
              "      <th>9</th>\n",
              "      <td>dlockyer second occurrence read vaccines harmi...</td>\n",
              "    </tr>\n",
              "  </tbody>\n",
              "</table>\n",
              "</div>"
            ],
            "text/plain": [
              "                                               tweet\n",
              "0  user massive surge covid deaths immediately va...\n",
              "1  required vaccines school parents guardians chi...\n",
              "2  kcstar johnson county children measles http t ...\n",
              "3  nv better states best worst vaccinating kids h...\n",
              "4  like killing w fear mt alyssa_milano vaccine f...\n",
              "5  m subscribing panic du jour s measles remember...\n",
              "6  801punx fav songs check aptbs exploding head a...\n",
              "7  happend covid 19 vaccine test candidates died ...\n",
              "8  zenith bs gt gt cdc says ebola vaccine works w...\n",
              "9  dlockyer second occurrence read vaccines harmi..."
            ]
          },
          "metadata": {},
          "execution_count": 9
        }
      ]
    },
    {
      "cell_type": "markdown",
      "metadata": {
        "id": "c6kxsM8sUkX5"
      },
      "source": [
        "# Classification"
      ]
    },
    {
      "cell_type": "markdown",
      "metadata": {
        "id": "K9S6K9jYqta4"
      },
      "source": [
        "##My custom vectorizer"
      ]
    },
    {
      "cell_type": "code",
      "metadata": {
        "id": "FYHWPzGFq11t"
      },
      "source": [
        "def vectorizer():\n",
        "  print()\n",
        "\n"
      ],
      "execution_count": null,
      "outputs": []
    },
    {
      "cell_type": "markdown",
      "metadata": {
        "id": "-h8cetP-mSY5"
      },
      "source": [
        "παρατηρώ οτι το testing με unigrams δηλαδη batches 1 η 2 λεξεων δινει καλυτερα αποτελεματα προβλεψεις στο training και testing dataset. δινω ποσοστα και για το training για να δουμε το over/under-fitting"
      ]
    },
    {
      "cell_type": "markdown",
      "metadata": {
        "id": "vGdQkYm8rOmM"
      },
      "source": [
        "##Confusion Matrix"
      ]
    },
    {
      "cell_type": "code",
      "metadata": {
        "id": "qZWaSXmqrKMO"
      },
      "source": [
        "def ConfusionMatrix(test_label,ypred):\n",
        "  C = confusion_matrix(test_label,ypred)\n",
        "  confusionMatrix = pd.DataFrame(data = C, index=['neutral(0), true','anti-vax(1), true','pro-vax(2), true'], columns = ['neutral(0), predicted','anti-vax(1), predicted','pro-vax(2), predicted'])\n",
        "  confusionMatrix.loc['sum'] = confusionMatrix.sum()\n",
        "  confusionMatrix['sum'] = confusionMatrix.sum(axis=1)\n",
        "  print(confusionMatrix.to_string())\n",
        "  confMx = confusionMatrix.values[0:3,0:3]\n",
        "  plt.matshow(confMx, cmap=plt.cm.gray)\n",
        "  plt.show()\n",
        "\n"
      ],
      "execution_count": null,
      "outputs": []
    },
    {
      "cell_type": "code",
      "metadata": {
        "id": "IiR-XmaLctuW"
      },
      "source": [
        "def MySoftMax():\n",
        "  test_result = 0.0\n",
        "  train_result = 0.0\n",
        "  SoftMax=LogisticRegression(multi_class = 'multinomial',solver = 'lbfgs',max_iter=1000)\n",
        "  SoftMax.fit(traindata,trainlabel) #execute each clustering method\n",
        "  accuracy = SoftMax.score(testdata, testlabel) # grade how much the content of the test text set,based on the training, corresponds it's true label\n",
        "  y_pred=SoftMax.predict(testdata) # experimentaly predict the label based on our training and compare it to the true label\n",
        "  print(\"SoftMax\")\n",
        "  print(\"accuracy = \", accuracy * 100, \"%\")\n",
        "  for metric,metric_name in zip([f1_score(testlabel,y_pred,average='macro' ) * 100,recall_score(testlabel,y_pred,average='macro' ) * 100,precision_score(testlabel,y_pred,average='macro',zero_division=0) * 100], [\"F measure =\",\"recall score =\",\"precision score =\"]):#ngram_range has varying result\n",
        "    print(metric_name,metric , \"%\")\n",
        "    test_result+=metric\n",
        "  test_results.append(test_result/3)#keep the mean of the metrics for Learning Curve plotting\n",
        "  ConfusionMatrix(testlabel,y_pred);\n",
        "  print(\"ON TRAINING DATA = \")\n",
        "  accuracy = SoftMax.score(traindata, trainlabel)\n",
        "  print(\"accuracy on training data = \", accuracy * 100, \"%\")\n",
        "  y_pred=SoftMax.predict(traindata) \n",
        "  for metric,metric_name in zip([f1_score(trainlabel,y_pred,average='macro' ) * 100,recall_score(trainlabel,y_pred,average='macro' ) * 100,precision_score(trainlabel,y_pred,average='macro',zero_division=0) * 100], [\"F measure =\",\"recall score =\",\"precision score =\"]):#ngram_range has varying result\n",
        "    print(metric_name,metric , \"%\")\n",
        "    train_result+=metric\n",
        "  train_results.append(train_result/3)\n",
        "  ConfusionMatrix(trainlabel,y_pred);"
      ],
      "execution_count": null,
      "outputs": []
    },
    {
      "cell_type": "code",
      "metadata": {
        "colab": {
          "base_uri": "https://localhost:8080/",
          "height": 1000
        },
        "id": "3RdhXLZxceO5",
        "outputId": "44df9a4f-a9f4-4d66-cd9f-74c8be0b4d1c"
      },
      "source": [
        "test_results = []\n",
        "train_results = []\n",
        "trainlabel = np.asarray(train_df['label'])#extract true-false label\n",
        "testlabel=np.asarray(validation_set['label'])\n",
        "\n",
        "for vectorizer,name in zip([CountVectorizer(ngram_range=(1,2) ,max_features=200),TfidfVectorizer(ngram_range=(1,2), max_features=10),HashingVectorizer(ngram_range=(1,2),n_features= 2 ** 11)], [\"CountVectorizer with unigrams\",\"TfidfVectorizer with unigrams\",\"HashingVectorizer\"]):#ngram_range has varying result\n",
        "  test_result = 0.0\n",
        "  train_result = 0.0\n",
        "  dataset=train_df.tweet\n",
        "  X1 = vectorizer.fit_transform(dataset)\n",
        "  traindata=X1.toarray() #make a 2d array of with the frequencies of the word ngrams\n",
        "  means = np.mean(traindata, axis=0)\n",
        "  stds = np.std(traindata, axis=0)\n",
        "  traindata = (traindata - means)/stds #optimises the vector\n",
        "  dataset=validation_set.tweet #same for test\n",
        "  X1 = vectorizer.transform(dataset) # see below why i transform and not fit_transform again\n",
        "  testdata=X1.toarray()\n",
        "  # print(traindata)\n",
        "  means = np.mean(testdata, axis=0)\n",
        "  stds = np.std(testdata, axis=0)\n",
        "  testdata = (testdata - means)/stds\n",
        "  # print(testdata)\n",
        "  print(name)\n",
        "  print(\"------------------\")\n",
        "  MySoftMax()\n",
        "\n",
        "\n",
        "  print()\n",
        "  # test_results.append((accuracy*100,recall_score(testlabel,y_pred,average='macro' ) * 100,precision_score(testlabel,y_pred,average='macro' ) * 100))"
      ],
      "execution_count": null,
      "outputs": [
        {
          "output_type": "stream",
          "name": "stdout",
          "text": [
            "CountVectorizer with unigrams\n",
            "------------------\n",
            "SoftMax\n",
            "accuracy =  68.05433829973707 %\n",
            "F measure = 58.349739329672566 %\n",
            "recall score = 57.288034926700796 %\n",
            "precision score = 63.82884312918915 %\n",
            "                   neutral(0), predicted  anti-vax(1), predicted  pro-vax(2), predicted   sum\n",
            "neutral(0), true                     841                      21                    203  1065\n",
            "anti-vax(1), true                     74                      68                    154   296\n",
            "pro-vax(2), true                     241                      36                    644   921\n",
            "sum                                 1156                     125                   1001  2282\n"
          ]
        },
        {
          "output_type": "display_data",
          "data": {
            "image/png": "[encoded data removed]",
            "text/plain": [
              "<Figure size 288x288 with 1 Axes>"
            ]
          },
          "metadata": {
            "needs_background": "light"
          }
        },
        {
          "output_type": "stream",
          "name": "stdout",
          "text": [
            "ON TRAINING DATA = \n",
            "accuracy on training data =  69.39784677015524 %\n",
            "F measure = 58.59326088887483 %\n",
            "recall score = 57.78703891360415 %\n",
            "precision score = 64.55323975902081 %\n",
            "                   neutral(0), predicted  anti-vax(1), predicted  pro-vax(2), predicted    sum\n",
            "neutral(0), true                    5965                     135                   1358   7458\n",
            "anti-vax(1), true                    549                     425                   1099   2073\n",
            "pro-vax(2), true                    1517                     231                   4697   6445\n",
            "sum                                 8031                     791                   7154  15976\n"
          ]
        },
        {
          "output_type": "display_data",
          "data": {
            "image/png": "[encoded data removed]",
            "text/plain": [
              "<Figure size 288x288 with 1 Axes>"
            ]
          },
          "metadata": {
            "needs_background": "light"
          }
        },
        {
          "output_type": "stream",
          "name": "stdout",
          "text": [
            "\n",
            "TfidfVectorizer with unigrams\n",
            "------------------\n",
            "SoftMax\n",
            "accuracy =  59.99123575810692 %\n",
            "F measure = 42.715230624323446 %\n",
            "recall score = 45.90672518644257 %\n",
            "precision score = 40.13338714947434 %\n",
            "                   neutral(0), predicted  anti-vax(1), predicted  pro-vax(2), predicted   sum\n",
            "neutral(0), true                     744                       0                    321  1065\n",
            "anti-vax(1), true                     67                       0                    229   296\n",
            "pro-vax(2), true                     296                       0                    625   921\n",
            "sum                                 1107                       0                   1175  2282\n"
          ]
        },
        {
          "output_type": "display_data",
          "data": {
            "image/png": "[encoded data removed]",
            "text/plain": [
              "<Figure size 288x288 with 1 Axes>"
            ]
          },
          "metadata": {
            "needs_background": "light"
          }
        },
        {
          "output_type": "stream",
          "name": "stdout",
          "text": [
            "ON TRAINING DATA = \n",
            "accuracy on training data =  59.996244366549824 %\n",
            "F measure = 42.718346865585325 %\n",
            "recall score = 45.92034156902305 %\n",
            "precision score = 40.12089331675852 %\n",
            "                   neutral(0), predicted  anti-vax(1), predicted  pro-vax(2), predicted    sum\n",
            "neutral(0), true                    5200                       0                   2258   7458\n",
            "anti-vax(1), true                    509                       0                   1564   2073\n",
            "pro-vax(2), true                    2060                       0                   4385   6445\n",
            "sum                                 7769                       0                   8207  15976\n"
          ]
        },
        {
          "output_type": "display_data",
          "data": {
            "image/png": "[encoded data removed]",
            "text/plain": [
              "<Figure size 288x288 with 1 Axes>"
            ]
          },
          "metadata": {
            "needs_background": "light"
          }
        },
        {
          "output_type": "stream",
          "name": "stdout",
          "text": [
            "\n",
            "HashingVectorizer\n",
            "------------------\n",
            "SoftMax\n",
            "accuracy =  62.35758106923751 %\n",
            "F measure = 56.07390010999688 %\n",
            "recall score = 55.85586791085254 %\n",
            "precision score = 56.3355171722425 %\n",
            "                   neutral(0), predicted  anti-vax(1), predicted  pro-vax(2), predicted   sum\n",
            "neutral(0), true                     750                      70                    245  1065\n",
            "anti-vax(1), true                     87                     105                    104   296\n",
            "pro-vax(2), true                     254                      99                    568   921\n",
            "sum                                 1091                     274                    917  2282\n"
          ]
        },
        {
          "output_type": "display_data",
          "data": {
            "image/png": "[encoded data removed]",
            "text/plain": [
              "<Figure size 288x288 with 1 Axes>"
            ]
          },
          "metadata": {
            "needs_background": "light"
          }
        },
        {
          "output_type": "stream",
          "name": "stdout",
          "text": [
            "ON TRAINING DATA = \n",
            "accuracy on training data =  77.83550325488233 %\n",
            "F measure = 74.25009912269148 %\n",
            "recall score = 72.94347263514832 %\n",
            "precision score = 76.10396059997072 %\n",
            "                   neutral(0), predicted  anti-vax(1), predicted  pro-vax(2), predicted    sum\n",
            "neutral(0), true                    6177                     189                   1092   7458\n",
            "anti-vax(1), true                    324                    1189                    560   2073\n",
            "pro-vax(2), true                    1092                     284                   5069   6445\n",
            "sum                                 7593                    1662                   6721  15976\n"
          ]
        },
        {
          "output_type": "display_data",
          "data": {
            "image/png": "[encoded data removed]",
            "text/plain": [
              "<Figure size 288x288 with 1 Axes>"
            ]
          },
          "metadata": {
            "needs_background": "light"
          }
        },
        {
          "output_type": "stream",
          "name": "stdout",
          "text": [
            "\n"
          ]
        }
      ]
    },
    {
      "cell_type": "markdown",
      "metadata": {
        "id": "G3tkRd1hg6s9"
      },
      "source": [
        "# Classification with Word2Vec\n",
        "εδω κανουμε τα ιδια αλλα για τον 2d array των simililarities επειδη η συναρτηση get_normed_vectors() που μας δινει το similarity vector των n λεξεων του document δεν υποστηριζεται στο google colab φτιαχνουμε αυτον τον πινακα μονοι μας\n",
        "\n",
        "το tokens ειναι ολα τα text σε λιστα,το record ενα node της λιστας (text προταση split-αρισμενη) το word ειναι ενα κομματι της split προτασης και για καθε τετοια word παιρνουμε ενα πινακα καταληγωντας σε εναν 2d array traindata\n",
        "για n λεξεις\n"
      ]
    },
    {
      "cell_type": "code",
      "metadata": {
        "id": "ZuVxvxioYn6G",
        "colab": {
          "base_uri": "https://localhost:8080/"
        },
        "outputId": "9bb98297-dd65-4fa8-f12c-3c2e83097ac5"
      },
      "source": [
        "sentences = pd.concat([train_df.tweet,validation_set.tweet],ignore_index=True)\n",
        "nltk.download('punkt')\n",
        "# simple tokenization\n",
        "tokens = [nltk.word_tokenize(sentence) for sentence in sentences]\n",
        "\n",
        "w2vmodel = Word2Vec(tokens,\n",
        "                    seed=32,\n",
        "                    negative=5,\n",
        "                    sg=0,\n",
        "                    min_count=1,\n",
        "                    window=1)\n",
        "\n",
        "w2vmodel.build_vocab(tokens, update=True)  # prepare the model vocabulary\n",
        "w2vmodel.train(tokens, total_examples=len(tokens), epochs=2)\n",
        "train_tokens = [nltk.word_tokenize(sentences) for sentences in train_df.tweet ]\n",
        "test_tokens = [nltk.word_tokenize(sentences) for sentences in validation_set.tweet]"
      ],
      "execution_count": null,
      "outputs": [
        {
          "output_type": "stream",
          "name": "stdout",
          "text": [
            "[nltk_data] Downloading package punkt to /root/nltk_data...\n",
            "[nltk_data]   Package punkt is already up-to-date!\n"
          ]
        }
      ]
    },
    {
      "cell_type": "code",
      "metadata": {
        "id": "dskRMbalU76X",
        "colab": {
          "base_uri": "https://localhost:8080/",
          "height": 967
        },
        "outputId": "d5e3b0f4-e050-4006-df05-cb078a399d3c"
      },
      "source": [
        "test_result = 0.0\n",
        "train_result = 0.0\n",
        "traindata = [np.array([w2vmodel[word] for word in record]).mean(axis=0) for record in train_tokens]\n",
        "testdata = [np.array([w2vmodel[word] for word in record]).mean(axis=0) for record in test_tokens]\n",
        "MySoftMax()\n",
        "\n",
        "print()\n"
      ],
      "execution_count": null,
      "outputs": [
        {
          "output_type": "stream",
          "name": "stderr",
          "text": [
            "/usr/local/lib/python3.7/dist-packages/ipykernel_launcher.py:3: DeprecationWarning: Call to deprecated `__getitem__` (Method will be removed in 4.0.0, use self.wv.__getitem__() instead).\n",
            "  This is separate from the ipykernel package so we can avoid doing imports until\n",
            "/usr/local/lib/python3.7/dist-packages/ipykernel_launcher.py:4: DeprecationWarning: Call to deprecated `__getitem__` (Method will be removed in 4.0.0, use self.wv.__getitem__() instead).\n",
            "  after removing the cwd from sys.path.\n"
          ]
        },
        {
          "output_type": "stream",
          "name": "stdout",
          "text": [
            "SoftMax\n",
            "accuracy =  65.4250657318142 %\n",
            "F measure = 48.52593690330007 %\n",
            "recall score = 50.75752290346042 %\n",
            "precision score = 57.56761386403186 %\n",
            "                   neutral(0), predicted  anti-vax(1), predicted  pro-vax(2), predicted   sum\n",
            "neutral(0), true                     826                       8                    231  1065\n",
            "anti-vax(1), true                     77                      10                    209   296\n",
            "pro-vax(2), true                     258                       6                    657   921\n",
            "sum                                 1161                      24                   1097  2282\n"
          ]
        },
        {
          "output_type": "display_data",
          "data": {
            "image/png": "[encoded data removed]",
            "text/plain": [
              "<Figure size 288x288 with 1 Axes>"
            ]
          },
          "metadata": {
            "needs_background": "light"
          }
        },
        {
          "output_type": "stream",
          "name": "stdout",
          "text": [
            "ON TRAINING DATA = \n",
            "accuracy on training data =  65.98647971957938 %\n",
            "F measure = 48.391237027203985 %\n",
            "recall score = 50.93409557448734 %\n",
            "precision score = 54.429770523745816 %\n",
            "                   neutral(0), predicted  anti-vax(1), predicted  pro-vax(2), predicted    sum\n",
            "neutral(0), true                    5885                      57                   1516   7458\n",
            "anti-vax(1), true                    579                      50                   1444   2073\n",
            "pro-vax(2), true                    1784                      54                   4607   6445\n",
            "sum                                 8248                     161                   7567  15976\n"
          ]
        },
        {
          "output_type": "display_data",
          "data": {
            "image/png": "[encoded data removed]",
            "text/plain": [
              "<Figure size 288x288 with 1 Axes>"
            ]
          },
          "metadata": {
            "needs_background": "light"
          }
        },
        {
          "output_type": "stream",
          "name": "stdout",
          "text": [
            "\n"
          ]
        }
      ]
    },
    {
      "cell_type": "markdown",
      "metadata": {
        "id": "Cvq8SDVe0epE"
      },
      "source": [
        "#Συμπερασματα(προσωρινα)\n",
        "τα μοντελα μου εχουν μια ελαφρη κλιση προς το neutral και εχουν τρομερο προβλημα στο να ανιχνευουν anti-vax tweets και απο εκει προερχονται τα χαμηλα ποσοστα ακριβειασ μου. αν μπορουσα να  φτιαξω το anti-vax μια 33% αυξηση των ποσοστων θα ηταν πολυ καλη \n",
        "\n",
        "ετρεξα τους vectorizers με μονο bigrams και ειδα μονο χειροτερα απολεσματα. κανενας λογος να επιλεχτει\n",
        "\n",
        "ξαναετρεξα με αλλα Logistic Regression ορισματα οπως ovr multiclass saga, newton-cg solvers αλλα ειδα σχεδον μηδενικη διαφορα\n",
        "\n",
        "η λυση ηταν ο hash vectorizer ο οποιος με τα default ορισματα κρασαρει λογω μνημης αλλα με μειωση του n_features δηλαδη σημαντικη μειωση στηλων του πινακα ειχαμε πολυ καλη αυξηση ευστοχιας. μια ακομα λεπτομερια ποιοτητα ειναι οτι σε confusion matrix οχι μονο η κυρια διαγωνιος ειναι η πιο ανοιχτοχρωμη αλλα η αντιθετη διαγωνιος ειναι η 2η πιο λευκη δηλαδη τα περισσοτερα misclassified positive πανε σε neutral(πιο κοντινο απο το να πανε anti-vax)\n",
        "\n",
        "υστερα αφου διαβασα  [αυτη την συζητηση στο piazza](https://piazza.com/class/kud1bfc0uy62rl?cid=22) δοκιμασα να κανω transform αντι για fit_transform στο validation_set και στην περιπτωση του CountVectorizer και tfidf ειδα οτι η ακριβεια εφτασε πιο κοντα αυτη του training_set(απο 45% 60%) και εκλεισε τη διαφορα με τον hashingVectorizer"
      ]
    },
    {
      "cell_type": "code",
      "metadata": {
        "colab": {
          "base_uri": "https://localhost:8080/",
          "height": 295
        },
        "id": "Fq1nCXt3DtLk",
        "outputId": "357f89ae-b7df-4ac4-bcbd-54388bb43f55"
      },
      "source": [
        "\n",
        "plt.plot([\"cv\",\"tf-idf\",\"hv\",\"w2v\"], test_results)\n",
        "plt.plot([\"cv\",\"tf-idf\",\"hv\",\"w2v\"], train_results)\n",
        "plt.legend(['test', 'train'])\n",
        "plt.xlabel(\"Model\")\n",
        "plt.ylabel(\"Accuracy\")\n",
        "plt.title(\"Learning Curve of models\")\n",
        "plt.show()"
      ],
      "execution_count": null,
      "outputs": [
        {
          "output_type": "display_data",
          "data": {
            "image/png": "[encoded data removed]",
            "text/plain": [
              "<Figure size 432x288 with 1 Axes>"
            ]
          },
          "metadata": {
            "needs_background": "light"
          }
        }
      ]
    }
  ]
}